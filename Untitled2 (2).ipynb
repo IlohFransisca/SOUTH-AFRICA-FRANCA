{
 "cells": [
  {
   "cell_type": "code",
   "execution_count": 1,
   "id": "a528dfaa",
   "metadata": {},
   "outputs": [],
   "source": [
    "import pandas as pd\n",
    "import numpy as np\n",
    "from sklearn.model_selection import train_test_split\n",
    "from sklearn.feature_extraction.text import CountVectorizer, TfidfTransformer\n",
    "from sklearn.metrics import f1_score\n",
    "from sklearn.linear_model import LogisticRegression\n",
    "from sklearn.neighbors import KNeighborsClassifier\n",
    "from sklearn.svm import SVC\n",
    "from sklearn.naive_bayes import MultinomialNB"
   ]
  },
  {
   "cell_type": "code",
   "execution_count": 2,
   "id": "41dfa7f1",
   "metadata": {},
   "outputs": [],
   "source": [
    "train_df = pd.read_csv('train_set.csv')\n",
    "test_df = pd.read_csv('test_set.csv')"
   ]
  },
  {
   "cell_type": "code",
   "execution_count": 3,
   "id": "a37c6369",
   "metadata": {},
   "outputs": [],
   "source": [
    "from sklearn.feature_extraction.text import TfidfVectorizer\n",
    "from sklearn.feature_extraction.text import TfidfVectorizer\n",
    "from sklearn.model_selection import train_test_split\n",
    "\n",
    "def preprocess_data(train_df, test_df):\n",
    "    # Initializing the TF-IDF vectorizer\n",
    "    vectorizer = TfidfVectorizer()\n",
    "\n",
    "    # Fitting the vectorizer on the training data\n",
    "    vectorizer.fit(train_df['text'])\n",
    "\n",
    "    # Transforming the training and test data using the fitted vectorizer\n",
    "    train_features = vectorizer.transform(train_df['text'])\n",
    "    test_features = vectorizer.transform(test_df['text'])\n",
    "\n",
    "    return train_features, test_features, vectorizer\n"
   ]
  },
  {
   "cell_type": "code",
   "execution_count": 4,
   "id": "ce6c7ef5",
   "metadata": {},
   "outputs": [],
   "source": [
    "train_features, test_features, vectorizer = preprocess_data(train_df, test_df)\n"
   ]
  },
  {
   "cell_type": "code",
   "execution_count": null,
   "id": "020ddbe7",
   "metadata": {},
   "outputs": [],
   "source": [
    "X_train, X_val, y_train, y_val = train_test_split(train_features, train_df['lang_id'], test_size=0.2, random_state=42)\n",
    "lr_model = LogisticRegression()\n",
    "lr_model.fit(X_train, y_train)\n",
    "lr_preds = lr_model.predict(X_val)\n",
    "lr_f1 = f1_score(y_val, lr_preds, average='weighted')\n",
    "\n",
    "print(\"Logistic Regression F1 Score:\", lr_f1)"
   ]
  },
  {
   "cell_type": "code",
   "execution_count": null,
   "id": "77e10d99",
   "metadata": {},
   "outputs": [],
   "source": [
    "from sklearn.model_selection import GridSearchCV\n",
    "from sklearn.naive_bayes import MultinomialNB\n",
    "from sklearn.metrics import make_scorer, f1_score\n",
    "from sklearn.model_selection import train_test_split\n",
    "from sklearn.feature_extraction.text import TfidfVectorizer\n",
    "\n",
    "# Assuming you have a DataFrame named train_df with columns 'text' and 'lang_id'\n",
    "# If you don't have a DataFrame yet, load your data using pandas read_csv or other methods\n",
    "\n",
    "# Sample data loading\n",
    "# train_df = pd.read_csv('your_train_dataset.csv')\n",
    "\n",
    "# Split the data into training and validation sets\n",
    "# X_train, X_val, y_train, y_val = train_test_split(\n",
    "#     train_df['text'], train_df['lang_id'], test_size=0.2, random_state=42\n",
    "# )\n",
    "\n",
    "# # Text vectorization using TF-IDF\n",
    "# vectorizer = TfidfVectorizer(ngram_range=(1, 2), max_features=5000)\n",
    "# X_train = vectorizer.fit_transform(X_train)\n",
    "# X_val = vectorizer.transform(X_val)\n",
    "\n",
    "# Initialize the Naive Bayes model\n",
    "nb = MultinomialNB()\n",
    "\n",
    "# Define the parameter grid\n",
    "param_grid = {'alpha': [0.1, 0.5, 1.0, 1.5],\n",
    "              'fit_prior': [True, False]}\n",
    "\n",
    "# Create a scorer for f1_weighted\n",
    "f1_scorer = make_scorer(f1_score, average='weighted')\n",
    "\n",
    "# Initialize GridSearchCV\n",
    "grid_search = GridSearchCV(nb, param_grid, cv=5, scoring=f1_scorer, n_jobs=-1)\n",
    "\n",
    "# Fit the grid search to the data\n",
    "grid_search.fit(X_train, y_train)\n",
    "\n",
    "# Get the best parameters\n",
    "best_params = grid_search.best_params_\n",
    "\n",
    "# Use the best parameters to train the final model\n",
    "best_nb_model = MultinomialNB(alpha=best_params['alpha'], fit_prior=best_params['fit_prior'])\n",
    "best_nb_model.fit(X_train, y_train)\n",
    "\n",
    "# Predictions on the validation set\n",
    "y_pred = best_nb_model.predict(X_val)\n",
    "\n",
    "# Evaluate the performance\n",
    "nb_f1 = f1_score(y_val, y_pred, average='weighted')\n",
    "print(\"Improved Naive Bayes F1 Score:\", nb_f1)\n",
    "print(\"Best Parameters:\", best_params)"
   ]
  },
  {
   "cell_type": "code",
   "execution_count": null,
   "id": "7c64890f",
   "metadata": {},
   "outputs": [],
   "source": [
    "# Naive Bayes model\n",
    "nb = MultinomialNB()\n",
    "param_grid = {'alpha': [0.1, 0.5, 1.0, 1.5]}\n",
    "f1_scorer = make_scorer(f1_score, average='weighted')\n",
    "grid_search_nb = GridSearchCV(nb, param_grid, cv=StratifiedKFold(n_splits=5), scoring=f1_scorer, n_jobs=-1)\n",
    "grid_search_nb.fit(X_train, y_train)\n",
    "best_nb_model = grid_search_nb.best_estimator_\n",
    "\n",
    "# Support Vector Machine model\n",
    "svm = SVC(probability=True)\n",
    "param_grid_svm = {'C': [1, 10, 100], 'gamma': [0.01, 0.1, 1]}\n",
    "grid_search_svm = GridSearchCV(svm, param_grid_svm, cv=StratifiedKFold(n_splits=5), scoring=f1_scorer, n_jobs=-1)\n",
    "grid_search_svm.fit(X_train, y_train)\n",
    "best_svm_model = grid_search_svm.best_estimator_\n",
    "\n",
    "# Random Forest model\n",
    "rf = RandomForestClassifier()\n",
    "param_grid_rf = {'n_estimators': [50, 100, 200], 'max_depth': [None, 10, 20]}\n",
    "grid_search_rf = GridSearchCV(rf, param_grid_rf, cv=StratifiedKFold(n_splits=5), scoring=f1_scorer, n_jobs=-1)\n",
    "grid_search_rf.fit(X_train, y_train)\n",
    "best_rf_model = grid_search_rf.best_estimator_\n",
    "\n",
    "# Ensemble of models\n",
    "voting_classifier = VotingClassifier(estimators=[\n",
    "    ('nb', best_nb_model),\n",
    "    ('svm', best_svm_model),\n",
    "    ('rf', best_rf_model)\n",
    "], voting='soft')\n",
    "\n",
    "# Train the ensemble model\n",
    "voting_classifier.fit(X_train, y_train)\n",
    "\n",
    "# Predictions on the validation set\n",
    "y_pred_ensemble = voting_classifier.predict(X_val)\n",
    "\n",
    "# Evaluate the performance\n",
    "ensemble_f1 = f1_score(y_val, y_pred_ensemble, average='weighted')\n",
    "print(\"Ensemble F1 Score:\", ensemble_f1)"
   ]
  },
  {
   "cell_type": "code",
   "execution_count": null,
   "id": "11bda22f",
   "metadata": {},
   "outputs": [],
   "source": [
    "# Converting the test data into TF-IDF vectors\n",
    "X_test = vectorizer.transform(test_df['text'])\n",
    "\n",
    "# Generating predictions on the best performing model\n",
    "test_predictions = best_nb_model.predict(X_test)"
   ]
  },
  {
   "cell_type": "code",
   "execution_count": null,
   "id": "e15202a0",
   "metadata": {},
   "outputs": [],
   "source": [
    "# Creating a submission dataframe with 'index' and 'lang_id' columns\n",
    "submission_df = pd.DataFrame({'index': test_df['index'], 'lang_id': test_predictions})\n",
    "\n",
    "submission_df.to_csv('submission.csv', index=False)"
   ]
  },
  {
   "cell_type": "code",
   "execution_count": null,
   "id": "d5a2015a",
   "metadata": {},
   "outputs": [],
   "source": [
    "submission_df"
   ]
  }
 ],
 "metadata": {
  "kernelspec": {
   "display_name": "Python 3 (ipykernel)",
   "language": "python",
   "name": "python3"
  },
  "language_info": {
   "codemirror_mode": {
    "name": "ipython",
    "version": 3
   },
   "file_extension": ".py",
   "mimetype": "text/x-python",
   "name": "python",
   "nbconvert_exporter": "python",
   "pygments_lexer": "ipython3",
   "version": "3.11.3"
  }
 },
 "nbformat": 4,
 "nbformat_minor": 5
}
